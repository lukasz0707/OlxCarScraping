{
 "cells": [
  {
   "cell_type": "code",
   "execution_count": null,
   "metadata": {
    "executionInfo": {
     "elapsed": 451,
     "status": "ok",
     "timestamp": 1631142246217,
     "user": {
      "displayName": "lukaszq 0707",
      "photoUrl": "https://lh3.googleusercontent.com/a-/AOh14Gg_KBhM2gYO2rGdl1DOOFKyJtVpIqdfxx8Mv2GhGw=s64",
      "userId": "13652559732341493296"
     },
     "user_tz": -120
    },
    "id": "VhStTS2ISUW4",
    "scrolled": false
   },
   "outputs": [],
   "source": [
    "from bs4 import BeautifulSoup\n",
    "import requests\n",
    "import re"
   ]
  },
  {
   "cell_type": "code",
   "execution_count": null,
   "metadata": {
    "executionInfo": {
     "elapsed": 11,
     "status": "ok",
     "timestamp": 1631142246218,
     "user": {
      "displayName": "lukaszq 0707",
      "photoUrl": "https://lh3.googleusercontent.com/a-/AOh14Gg_KBhM2gYO2rGdl1DOOFKyJtVpIqdfxx8Mv2GhGw=s64",
      "userId": "13652559732341493296"
     },
     "user_tz": -120
    },
    "id": "1NWA00lcSfar",
    "scrolled": false
   },
   "outputs": [],
   "source": [
    "#return number of pages on olx site\n",
    "def num_pages_on_site(url_string):\n",
    "  base_html = requests.get(url_string).text\n",
    "  soup = BeautifulSoup(base_html,'lxml',)\n",
    "  strony = soup.find('div', class_=\"pager rel clr\")\n",
    "  if strony == None:\n",
    "    return 1\n",
    "  elif strony.find(\"fieldset\",class_=\"fleft\") == None:\n",
    "    return  len(strony.find_all('span',class_='item fleft'))\n",
    "  else:\n",
    "    wiele_stron = strony.find(\"fieldset\",class_=\"fleft\")\n",
    "    return int(re.search(\"totalPages: (\\d+)\",str(wiele_stron)).group(1))\n"
   ]
  },
  {
   "cell_type": "code",
   "execution_count": null,
   "metadata": {
    "executionInfo": {
     "elapsed": 9,
     "status": "ok",
     "timestamp": 1631142246219,
     "user": {
      "displayName": "lukaszq 0707",
      "photoUrl": "https://lh3.googleusercontent.com/a-/AOh14Gg_KBhM2gYO2rGdl1DOOFKyJtVpIqdfxx8Mv2GhGw=s64",
      "userId": "13652559732341493296"
     },
     "user_tz": -120
    },
    "id": "FkdBYs8ISv9L",
    "scrolled": false
   },
   "outputs": [],
   "source": [
    "#input url string of olx page, if auctions on page return list of links\n",
    "def auction_links_retrieval(url_string):\n",
    "  base_html = requests.get(url_string).text\n",
    "  soup = BeautifulSoup(base_html,'lxml')\n",
    "  aukcje = soup.find_all('h3',class_=\"lheight22 margintop5\")\n",
    "  if aukcje == []: \n",
    "    return None\n",
    "  else:\n",
    "    links=[]\n",
    "    for i in range(len(aukcje)):\n",
    "      links.append(re.search('href=\"([a-zA-Z0-9:/.-]+)',str(aukcje[i])).group(1))\n",
    "    return links"
   ]
  },
  {
   "cell_type": "code",
   "execution_count": null,
   "metadata": {
    "executionInfo": {
     "elapsed": 565,
     "status": "ok",
     "timestamp": 1631142246777,
     "user": {
      "displayName": "lukaszq 0707",
      "photoUrl": "https://lh3.googleusercontent.com/a-/AOh14Gg_KBhM2gYO2rGdl1DOOFKyJtVpIqdfxx8Mv2GhGw=s64",
      "userId": "13652559732341493296"
     },
     "user_tz": -120
    },
    "id": "iKl4pzuPSyr5",
    "scrolled": false
   },
   "outputs": [],
   "source": [
    "# input url list, return dict of features\n",
    "def feature_retrieval(url_list,feature_dict={},verbose=True):\n",
    "  main_index = len(feature_dict)\n",
    "  for url in url_list:\n",
    "    if verbose:\n",
    "      print(main_index,'parsing',url)\n",
    "    if url.startswith('https://www.otomoto.pl'):\n",
    "      otomoto_link = requests.get(url).text\n",
    "      soup = BeautifulSoup(otomoto_link,'lxml')\n",
    "      basic_otomoto = soup.find_all('li',class_='offer-params__item')\n",
    "      main_index += 1\n",
    "      if soup.find('span',class_=\"offer-price__number\")!= None:\n",
    "        cena = soup.find('span',class_=\"offer-price__number\").text.strip().replace(\" \",\"\")\n",
    "        feature_dict[main_index]={\"Cena\":cena}\n",
    "      for i in range(len(basic_otomoto)):\n",
    "        if basic_otomoto[i].a == None:\n",
    "          value = basic_otomoto[i].div.text.strip()\n",
    "        else:\n",
    "          value = basic_otomoto[i].a.text.strip()\n",
    "        label = basic_otomoto[i].span.text.strip()\n",
    "        if main_index in feature_dict:\n",
    "          feature_dict[main_index][label]=value\n",
    "        else:          \n",
    "          feature_dict[main_index] = {label:value}\n",
    "    elif url.startswith('https://www.olx.pl'):\n",
    "      olx_link = requests.get(url).text\n",
    "      soup = BeautifulSoup(olx_link,'lxml')\n",
    "      basic = soup.find_all('li',class_='css-ox1ptj')\n",
    "      main_index += 1\n",
    "      if soup.find('h3',class_='css-okktvh-Text eu5v0x0')!=None:\n",
    "        cena = soup.find('h3',class_='css-okktvh-Text eu5v0x0').text\n",
    "        feature_dict[main_index]={\"Cena\":cena}\n",
    "      for index in range(len(basic)):\n",
    "        if basic[index].text.endswith('Firmowe'):\n",
    "          label = \"Oferta od\"\n",
    "          value = 'Firmowe'\n",
    "        elif basic[index].text.endswith('Prywatne'):\n",
    "          label = \"Oferta od\"\n",
    "          value = \"Prywatne\"\n",
    "        else:\n",
    "          label = re.search(\"(^\\w+\\.*\\s*\\w*)[:]\\s((\\d*\\s*\\w*)*|(\\w+\\s*\\w*))\",basic[index].text).group(1).strip()\n",
    "          value = re.search(\"(^\\w+\\.*\\s*\\w*)[:]\\s((\\d*\\s*\\w*)*|(\\w+\\s*\\w*))\",basic[index].text).group(2).strip()\n",
    "        if main_index in feature_dict:\n",
    "          feature_dict[main_index][label] = value\n",
    "        else:\n",
    "          feature_dict[main_index] = {label:value}\n",
    "\n",
    "  return feature_dict"
   ]
  },
  {
   "cell_type": "code",
   "execution_count": null,
   "metadata": {
    "executionInfo": {
     "elapsed": 12,
     "status": "ok",
     "timestamp": 1631142246778,
     "user": {
      "displayName": "lukaszq 0707",
      "photoUrl": "https://lh3.googleusercontent.com/a-/AOh14Gg_KBhM2gYO2rGdl1DOOFKyJtVpIqdfxx8Mv2GhGw=s64",
      "userId": "13652559732341493296"
     },
     "user_tz": -120
    },
    "id": "dgipkjOITJRk",
    "scrolled": false
   },
   "outputs": [],
   "source": [
    "#Main program@@@@@@@@@@@@\n",
    "#inputs marki = list of car brands, nadwozia = list of car bodies/\n",
    "# od_roku = start from this production year, do_roku = end on this production year\n",
    "def olx_car_scrapper(marki,nadwozia,od_roku,do_roku,feature_dict={},verbose=1):\n",
    "  feature_dict=feature_dict\n",
    "  count=0\n",
    "  site_printer = False\n",
    "  if verbose == 2:\n",
    "    site_printer = True\n",
    "  if verbose not in(1,2,3):\n",
    "    return('Verbose has to be of type integer. And value 1, 2 or 3')\n",
    "  if type(marki)!=list:\n",
    "    return('Marki has to be of type list')\n",
    "  if type(nadwozia)!=list:\n",
    "    return('Nadwozia has to be of type list')  \n",
    "  for index, marka in enumerate(marki):\n",
    "    base_html = f\"https://www.olx.pl/motoryzacja/samochody/{marki[index]}/\"\n",
    "    for rok in range(od_roku,do_roku+1):\n",
    "      base_html+= f\"?search%5Bfilter_float_year%3Afrom%5D={rok}&search%5Bfilter_float_year%3Ato%5D={rok}\"\n",
    "      for nadwozie in nadwozia:\n",
    "        base_html+=f\"&search%5Bfilter_enum_car_body%5D%5B0%5D={nadwozie}\"\n",
    "        num_pages = num_pages_on_site(base_html)\n",
    "        auction_links = auction_links_retrieval(base_html)\n",
    "        if num_pages == 1:\n",
    "          print(f\"number of pages on this site: {num_pages}\")\n",
    "          if auction_links == None:\n",
    "            count+=1\n",
    "            if verbose:\n",
    "              print(f\"Number of parsed pages:{count} Marka:{marka} Rok:{rok}\")\n",
    "          else:\n",
    "            feature_dict = feature_retrieval(auction_links,feature_dict,verbose=site_printer)\n",
    "            count+=1\n",
    "            if verbose:\n",
    "              print(f\"Number of parsed pages:{count} Marka:{marka} Rok:{rok}\")\n",
    "        else:\n",
    "          print(f\"number of pages on this site: {num_pages}\")\n",
    "          feature_dict = feature_retrieval(auction_links,feature_dict,verbose=site_printer)\n",
    "          count+=1\n",
    "          if verbose:\n",
    "              print(f\"Number of parsed pages:{count} Marka:{marka} Rok:{rok}\")\n",
    "          for i in range(2,num_pages+1):\n",
    "            base_html+=f\"&page={i}\"\n",
    "            auction_links = auction_links_retrieval(base_html)\n",
    "            feature_dict = feature_retrieval(auction_links,feature_dict,verbose=site_printer)\n",
    "            count+=1\n",
    "            if verbose:\n",
    "              print(f\"Number of parsed pages:{count} Marka:{marka} Rok:{rok}\")            \n",
    "  return feature_dict   "
   ]
  },
  {
   "cell_type": "code",
   "execution_count": null,
   "metadata": {
    "executionInfo": {
     "elapsed": 11,
     "status": "ok",
     "timestamp": 1631142246779,
     "user": {
      "displayName": "lukaszq 0707",
      "photoUrl": "https://lh3.googleusercontent.com/a-/AOh14Gg_KBhM2gYO2rGdl1DOOFKyJtVpIqdfxx8Mv2GhGw=s64",
      "userId": "13652559732341493296"
     },
     "user_tz": -120
    },
    "id": "YC6K30uGTTJt",
    "scrolled": false
   },
   "outputs": [],
   "source": [
    "##########TEST CASE##########\n",
    "test_marka = ['toyota']\n",
    "test_nadwozie = ['hatchback','sedan','estate-car']\n",
    "test_od_roku = 2001\n",
    "test_do_roku = 2001\n",
    "test_features = olx_car_scrapper(test_marka,test_nadwozie,test_od_roku,test_do_roku,verbose=2)\n",
    "print(test_features)"
   ]
  },
  {
   "cell_type": "code",
   "execution_count": null,
   "metadata": {
    "executionInfo": {
     "elapsed": 9,
     "status": "ok",
     "timestamp": 1631142246780,
     "user": {
      "displayName": "lukaszq 0707",
      "photoUrl": "https://lh3.googleusercontent.com/a-/AOh14Gg_KBhM2gYO2rGdl1DOOFKyJtVpIqdfxx8Mv2GhGw=s64",
      "userId": "13652559732341493296"
     },
     "user_tz": -120
    },
    "id": "_bVB25UmUhV5",
    "scrolled": false
   },
   "outputs": [],
   "source": [
    "#Create Pandas DataFrame from dictionary\n",
    "import pandas as pd\n",
    "test_df = pd.DataFrame.from_dict(test_features,orient=\"index\")\n",
    "test_df.head() #checking first 5 rows"
   ]
  },
  {
   "cell_type": "code",
   "execution_count": null,
   "metadata": {
    "colab": {
     "base_uri": "https://localhost:8080/"
    },
    "id": "W1mq8P5OatQa",
    "outputId": "4f3bf61b-71f4-472c-c02d-94a0c605ad23",
    "scrolled": true
   },
   "outputs": [],
   "source": [
    "# The whole olx car dataset from 1995 to 2021\n",
    "marki = [\"aixam\",\"alfa-romeo\",\"audi\",\"bmw\",\"cadillac\",\"chevrolet\",\"chrysler\",\"citroen\",\"dacia\",\"daewoo\",\"daihatsu\",\"dodge\",\"fiat\",\"ford\",\"honda\",\"hyundai\",\"infiniti\",\"jaguar\",\"jeep\",\\\n",
    "        \"kia\",\"lancia\",\"landrover\",\"lexus\",\"mazda\",\"mercedes-benz\",\"mini\",\"mitsubishi\",\"nissan\",\"opel\",\"peugeot\",\"polonez\",\"porsche\",\"renault\",\"rover\",\"saab\",\"seat\",\"skoda\",\\\n",
    "        \"smart\",\"ssangyong\",\"subaru\",\"suzuki\",\"toyota\",\"volkswagen\",\"volvo\",\"pozostale\"]\n",
    "nadwozia = [\"cabriolet\",'sedan','coupe','pickup','hatchback','estate-car','off-road-vehicle','minibus','mvp','suv']\n",
    "od_roku = 1995\n",
    "do_roku = 2021\n",
    "olx_dataset = olx_car_scrapper(marki,nadwozia,od_roku,do_roku,verbose=1)"
   ]
  },
  {
   "cell_type": "code",
   "execution_count": null,
   "metadata": {
    "id": "1G_8I_GXgCTQ",
    "scrolled": true
   },
   "outputs": [],
   "source": [
    "olx_df = pd.DataFrame.from_dict(olx_dataset,orient=\"index\")\n",
    "olx_df.head() #checking first 5 rows"
   ]
  }
 ],
 "metadata": {
  "celltoolbar": "Raw Cell Format",
  "colab": {
   "authorship_tag": "ABX9TyMA35yNBHJEZ0ARmtwBZP9q",
   "name": "OlxWebScrapper.ipynb",
   "provenance": []
  },
  "kernelspec": {
   "display_name": "Python 3",
   "language": "python",
   "name": "python3"
  },
  "language_info": {
   "codemirror_mode": {
    "name": "ipython",
    "version": 3
   },
   "file_extension": ".py",
   "mimetype": "text/x-python",
   "name": "python",
   "nbconvert_exporter": "python",
   "pygments_lexer": "ipython3",
   "version": "3.8.5"
  }
 },
 "nbformat": 4,
 "nbformat_minor": 1
}
